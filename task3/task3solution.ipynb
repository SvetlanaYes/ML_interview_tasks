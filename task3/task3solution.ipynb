{
  "nbformat": 4,
  "nbformat_minor": 0,
  "metadata": {
    "colab": {
      "provenance": [],
      "gpuType": "T4"
    },
    "kernelspec": {
      "name": "python3",
      "display_name": "Python 3"
    },
    "language_info": {
      "name": "python"
    },
    "accelerator": "GPU"
  },
  "cells": [
    {
      "cell_type": "markdown",
      "source": [
        "1. From Edit->Network->Hardware accelerator settings choose GPU for faster execution\n",
        "2. Add description of company in the 3rd code cell\n",
        "3. Run colab cells Runtime->Run all\n",
        "4. The code will be downloaded as image_for_website.py\n",
        "5. Main image will be generated as main_image.png"
      ],
      "metadata": {
        "id": "Geb2WTK-OEQ5"
      }
    },
    {
      "cell_type": "code",
      "source": [
        "!pip install diffusers transformers accelerate scipy safetensors"
      ],
      "metadata": {
        "id": "O21bPDVxjsNj"
      },
      "execution_count": null,
      "outputs": []
    },
    {
      "cell_type": "code",
      "source": [
        "import gdown\n",
        "\n",
        "file_url = \"https://drive.google.com/file/d/1fh7pxV8CfKH9djbHTjkMoXSXLQokWyzf/view?usp=sharing\"\n",
        "output_file = \"image_for_website.py\"\n",
        "\n",
        "gdown.download(file_url, output_file, quiet=False)\n"
      ],
      "metadata": {
        "id": "4d9wJMxDJ-kr"
      },
      "execution_count": null,
      "outputs": []
    },
    {
      "cell_type": "code",
      "source": [
        "!python image_for_website.py -d DESCRIPTION"
      ],
      "metadata": {
        "id": "5F4wEO2KGIF1"
      },
      "execution_count": null,
      "outputs": []
    }
  ]
}